{
 "cells": [
  {
   "cell_type": "code",
   "execution_count": 1,
   "id": "6b88b4bc-a5c4-436d-9eed-8e95600f6d53",
   "metadata": {
    "editable": true,
    "slideshow": {
     "slide_type": ""
    },
    "tags": []
   },
   "outputs": [],
   "source": [
    "from Animal import Animal"
   ]
  },
  {
   "cell_type": "code",
   "execution_count": null,
   "id": "738a52e3-faf1-4f92-8835-fed5b5e36dfe",
   "metadata": {
    "editable": true,
    "slideshow": {
     "slide_type": ""
    },
    "tags": []
   },
   "outputs": [
    {
     "name": "stdout",
     "output_type": "stream",
     "text": [
      "I am a Lion\n",
      "\n",
      "\n",
      "I identify as a Male and I am attracted to females\n",
      "\n",
      "\n",
      "My name is Jeff\n",
      "\n",
      "\n",
      "My traits are Strong\n",
      "I'm also Brave\n",
      "\n",
      "\n",
      "I act Aggressive\n"
     ]
    }
   ],
   "source": [
    "from Animal import Animal\n",
    "\n",
    "animal1 = Animal(\"Lion\", \"Jeff\", \"Male\", \"Strong\", \"Aggressive\")\n",
    "\n",
    "animal1.type()\n",
    "print(\"\\n\")\n",
    "\n",
    "animal1.love(\"females\")\n",
    "print(\"\\n\")\n",
    "\n",
    "animal1.NameLiking(\"Yes\")\n",
    "print(\"\\n\")\n",
    "\n",
    "animal1.show_traits(\"Brave\")\n",
    "print(\"\\n\")\n",
    "\n",
    "animal1.show_aggression()\n"
   ]
  },
  {
   "cell_type": "code",
   "execution_count": null,
   "id": "8931984b-1f2e-4a4a-b414-b1052450aa3a",
   "metadata": {},
   "outputs": [],
   "source": []
  }
 ],
 "metadata": {
  "kernelspec": {
   "display_name": "Python [conda env:base] *",
   "language": "python",
   "name": "conda-base-py"
  },
  "language_info": {
   "codemirror_mode": {
    "name": "ipython",
    "version": 3
   },
   "file_extension": ".py",
   "mimetype": "text/x-python",
   "name": "python",
   "nbconvert_exporter": "python",
   "pygments_lexer": "ipython3",
   "version": "3.12.7"
  }
 },
 "nbformat": 4,
 "nbformat_minor": 5
}
